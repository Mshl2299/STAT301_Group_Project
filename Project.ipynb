{
 "cells": [
  {
   "cell_type": "markdown",
   "id": "1be06998-d3c5-4fa8-985c-07249e7c6c78",
   "metadata": {},
   "source": [
    "Each report should include the following sections:\n",
    "\n",
    "    Title\n",
    "    Introduction\n",
    "    Methods and Results\n",
    "    Discussion\n",
    "    References\n"
   ]
  },
  {
   "cell_type": "markdown",
   "id": "8529829a-9259-4cdf-acbd-08bc809332a6",
   "metadata": {},
   "source": [
    "(1) Introduction\n",
    "\n",
    "Start with relevant background information on the topic to prepare those unfamiliar for the rest of your proposal.\n",
    "\n",
    "Formulate one question for investigation and describe briefly the dataset that will be utilized to address the question.\n",
    "\n",
    "Additionally, align your question/objective with the existing literature. To contextualize your study, include a minimum of two scientific publications (these should be listed in the References section).\n",
    "\n",
    "(2) Methods and Results\n",
    "\n",
    "In this section, you will include:\n",
    "\n",
    "a) “Exploratory Data Analysis (EDA)”\n",
    "\n",
    "    Demonstrate that the dataset can be read into R.\n",
    "    Clean and wrangle your data into a tidy format.\n",
    "    Plot the relevant raw data, tailoring your plot to address your question.\n",
    "        Make sure to explore the association of the explanatory variables with the response.\n",
    "    Any summary tables that are relevant to your analysis.\n",
    "    Provide code, but be sure not to print output that takes up a lot of screen space.\n",
    "\n",
    "Your EDA must be comprehensive with high quality plots.\n",
    "\n",
    "b) “Analysis Plan”\n",
    "\n",
    "    Describe in written English the methods you used to perform your analysis from beginning to end, and briefly mention R functions used for each part of analysis.\n",
    "    If relevant to your question, describe the “Variable Selection” process.\n",
    "    If prediction is the project's aim, describe the test data used or how it was created.\n",
    "    Describe your model diagnostic and/or evaluation plan, and any reason for choosing your metric(s).\n",
    "\n",
    "c) “Results”\n",
    "\n",
    "    Present the code and results of your analysis. \n",
    "    You must provide interpretations from each-step of your analysis. For example:\n",
    "        If inference is the aim of your project, a detailed interpretation of your fitted model(s) is required, as well as a discussion of relevant quantities (e.g., are the coefficients significant?).\n",
    "        If variable selection was carried out, how and why did you choose your final set of covariates.\n",
    "        Interpret how well the model fit the data.\n",
    "    Ensure your tables and/or figures are labelled with a figure/table number.\n",
    "\n",
    "(3) Discussion\n",
    "\n",
    "In this section, you’ll interpret the results you obtained in the previous section with respect to the main question/goal of your project.\n",
    "\n",
    "    Summarize what you found and the implications/impact of your findings.\n",
    "    If relevant, discuss whether your results were what you expected to find.\n",
    "    Discuss how your model could be improved;\n",
    "    Discuss future questions/research this study could lead to.\n",
    "\n",
    "\n",
    "(4) References\n",
    "\n",
    "At least two citations of literature relevant to the project. The citation format is your choice – just be consistent. Make sure to cite the source of your data as well."
   ]
  },
  {
   "cell_type": "code",
   "execution_count": null,
   "id": "92c31029-8170-4e94-86c8-5ab8b32aacf1",
   "metadata": {},
   "outputs": [],
   "source": [
    "Testing push - Alizah"
   ]
  },
  {
   "cell_type": "code",
   "execution_count": null,
   "id": "d3acb0d9-fee0-4870-a3ed-d35d1814834c",
   "metadata": {},
   "outputs": [],
   "source": [
    "Testing push - Matthew"
   ]
  }
 ],
 "metadata": {
  "kernelspec": {
   "display_name": "R",
   "language": "R",
   "name": "ir"
  },
  "language_info": {
   "codemirror_mode": "r",
   "file_extension": ".r",
   "mimetype": "text/x-r-source",
   "name": "R",
   "pygments_lexer": "r",
   "version": "4.3.3"
  }
 },
 "nbformat": 4,
 "nbformat_minor": 5
}
