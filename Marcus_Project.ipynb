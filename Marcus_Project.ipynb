{
 "cells": [
  {
   "cell_type": "markdown",
   "id": "965fabdb-9103-49c1-8f55-a815900cd44e",
   "metadata": {},
   "source": [
    "# Project Planning\n",
    "### Marcus Lim Group 15\n"
   ]
  },
  {
   "cell_type": "code",
   "execution_count": null,
   "id": "8073f5cf-e06d-4137-bb7b-61462a3a50c6",
   "metadata": {},
   "outputs": [],
   "source": [
    "# Importing libraries\n",
    "\n",
    "# library(broom)\n",
    "library(readr)\n",
    "library(tidyverse)\n",
    "library(GGally)"
   ]
  },
  {
   "cell_type": "markdown",
   "id": "26988f82-bb73-422c-a4cb-f1db73f10faa",
   "metadata": {},
   "source": [
    "## 1) Data Description\n",
    "Our dataset contains Airbnb prices for Budapest, London and Rome, from the [Airbnb Prices in European Cities](https://www.kaggle.com/datasets/thedevastator/airbnb-prices-in-european-cities/data) dataset. The data was collected from Airbnb listings.\n",
    "\n",
    "There are 20 variables in the original dataset, however, one is the `id` column which is the same as the row number, and four others (`attr_index`, `attr_index_norm`, `rest_index`, `rest_index_norm`) are not explained in detail. This leaves us with 15 variables, detailed below:\n",
    "\n",
    "| Column name   | Description   | Data Type     |\n",
    "| ------------- | ------------- | ------------- |\n",
    "| `realSum` | The total price of the Airbnb listing (Euros). | Numeric |\n",
    "| `room_type` | The type of room being offered (e.g. private, shared, etc.). | Categorical |\n",
    "| `room_shared` | Whether the room is shared or not. | Boolean |\n",
    "| `room_private` | Whether the room is private or not. | Boolean |\n",
    "| `person_capacity` | The maximum number of people that can stay in the room. | Numeric |\n",
    "| `host_is_superhost` | Whether the host is a superhost or not. | Boolean |\n",
    "| `multi` | Whether the listing is for multiple rooms or not. | Boolean |\n",
    "| `biz` | Whether the listing is for business purposes or not. | Boolean |\n",
    "| `cleanliness_rating` | The cleanliness rating of the listing. | Numeric |\n",
    "| `guest_satisfaction_overall` | The overall guest satisfaction rating of the listing. | Numeric |\n",
    "| `bedrooms` | The number of bedrooms in the listing. | Numeric |\n",
    "| `dist` | The distance from the city centre. | Numeric |\n",
    "| `metro_dist` | The distance from the nearest metro station. | Numeric |\n",
    "| `lng` | The longitude of the listing. | Numeric |\n",
    "| `lat` | The latitude of the listing. | Numeric |\n"
   ]
  },
  {
   "cell_type": "markdown",
   "id": "62698097-9089-4757-9b42-996d6a19a966",
   "metadata": {},
   "source": [
    "In order to get the size of our dataset, we will first read the data and merge the csv files into one table. In addition, we will create two more variables for a total of `17` variables. The new variables are as follows:\n",
    "\n",
    "| Column name   | Description   | Data Type     |\n",
    "| ------------- | ------------- | ------------- |\n",
    "| `city` | The city location of the Airbnb listing. | Categorical |\n",
    "| `isWeekend` | Whether the listing is for weekends or not. | Boolean |"
   ]
  },
  {
   "cell_type": "code",
   "execution_count": null,
   "id": "c21be0d7-e1c2-47b6-a6a8-5e162733049a",
   "metadata": {},
   "outputs": [],
   "source": [
    "# Function to format data: select vars from dataset and add city name + if it's weekend data\n",
    "tidy_data <- function(data, cityName, isWeekend) {\n",
    "    data <- data %>%\n",
    "        select(-...1, -attr_index, -attr_index_norm, -rest_index, -rest_index_norm)\n",
    "    data$city <- as.factor(cityName)\n",
    "    data$isWeekend <- as.logical(isWeekend)\n",
    "    return(data)\n",
    "}\n",
    "\n",
    "# Import and format data with tidy_data()\n",
    "london_weekdays <- (tidy_data(read_csv(\"data/london_weekdays.csv\"), \"London\", 0))\n",
    "london_weekends <- (tidy_data(read_csv(\"data/london_weekends.csv\"), \"London\", 1))\n",
    "rome_weekdays <- (tidy_data(read_csv(\"data/rome_weekdays.csv\"), \"Rome\", 0))\n",
    "rome_weekends <- (tidy_data(read_csv(\"data/rome_weekends.csv\"), \"Rome\", 1))\n",
    "budapest_weekdays <- (tidy_data(read_csv(\"data/budapest_weekdays.csv\"), \"Budapest\", 0))\n",
    "budapest_weekends <- (tidy_data(read_csv(\"data/budapest_weekends.csv\"), \"Budapest\", 1))\n",
    "\n",
    "# Merge all the data together\n",
    "data <- rbind(london_weekdays, london_weekends, rome_weekdays, rome_weekends, budapest_weekdays, budapest_weekends)"
   ]
  },
  {
   "cell_type": "code",
   "execution_count": null,
   "id": "f394a03e-a163-4b18-82ad-3a67266c0ae7",
   "metadata": {},
   "outputs": [],
   "source": [
    "nrow(data)"
   ]
  },
  {
   "cell_type": "markdown",
   "id": "a373ff5e-3c15-4131-8643-91484d3a266a",
   "metadata": {},
   "source": [
    "From the above output, our combined dataset contains `23042` total observations."
   ]
  },
  {
   "cell_type": "markdown",
   "id": "4fd78c47-fd0d-4527-8f9e-2404e9e886ab",
   "metadata": {},
   "source": [
    "## 2) Question\n",
    "My question is:\n",
    "\n",
    "> Is there an association between Airbnb prices to the distance to the closest metro and if the listing is for weekends?\n",
    "\n",
    "Justification: \n",
    "\n",
    "For tourists looking to explore a new country, access to the local transit network can be essential for gettng around. In addition, it would be valuable to know if listings on weekends are associated with Airbnb prices. Knowing if these variables are associated with Airbnb prices can help strike a good balance between costs and travel enjoyment.\n",
    "\n",
    "The data is suitable for this question, as it contains the columns `realSum`, which is the total price of an Airbnb listing, as well as `metro_dist` and `isWeekend`, which are the distance to the closest metro and if a listing is for a weekend or not. \n",
    "\n",
    "These columns will help determine if distance to the metro, or if a listing is for weekends, are statistically associated with Airbnb price. This is an inferential question involving hypothesis testing and associations, rather than predicting values."
   ]
  },
  {
   "cell_type": "markdown",
   "id": "46d54e6c-83c0-4594-87a7-ec3d5c423431",
   "metadata": {},
   "source": [
    "## 3) Exploratory Data Analysis\n",
    "\n",
    "Earlier, to get the number of observations overall, we demonstrated that the dataset can be loaded into R. \n",
    "\n",
    "Below we go through an EDA checklist:\n",
    "- Packaging (& Wrangling as needed)\n",
    "- Head and tail of data (presented in a tidy format)\n",
    "- Check for NA values\n",
    "- Check n's and summary statistics\n",
    "- Plot visualizations for variables of interest"
   ]
  },
  {
   "cell_type": "code",
   "execution_count": null,
   "id": "df1fa3e6-17f7-4c9b-9e24-681f30d458ff",
   "metadata": {},
   "outputs": [],
   "source": [
    "# Packaging\n",
    "str(data)"
   ]
  },
  {
   "cell_type": "markdown",
   "id": "82328dc1-cab6-471e-b8fd-58eb19357b6c",
   "metadata": {},
   "source": [
    "It looks like `room_type` is a character, when it should be categorical. There are also inconsistencies with how boolean variables are represented (logical vs numerical as 0 or 1), but we will ignore this for now."
   ]
  },
  {
   "cell_type": "code",
   "execution_count": null,
   "id": "308fa010-9df0-4656-b8fa-66c2bc95c208",
   "metadata": {},
   "outputs": [],
   "source": [
    "data <- data %>% mutate(room_type = as.factor(room_type))\n",
    "\n",
    "# Fixed Packaging\n",
    "str(data)"
   ]
  },
  {
   "cell_type": "code",
   "execution_count": null,
   "id": "234f7a45-a0cc-4d27-9865-4ff225611e05",
   "metadata": {},
   "outputs": [],
   "source": [
    "# Top and Bottom of data\n",
    "head(data)\n",
    "tail(data)"
   ]
  },
  {
   "cell_type": "code",
   "execution_count": null,
   "id": "45f306be-1109-4b96-8bb0-5234ea246f66",
   "metadata": {},
   "outputs": [],
   "source": [
    "# Check for missing/NA values\n",
    "sum(is.na(data))"
   ]
  },
  {
   "cell_type": "code",
   "execution_count": null,
   "id": "db624e68-f5b2-437b-a4e6-1c4c82e1b34d",
   "metadata": {},
   "outputs": [],
   "source": [
    "# Compute summary statistics & check numbers\n",
    "summary(data)"
   ]
  },
  {
   "cell_type": "markdown",
   "id": "512410ff-bfba-4c06-839b-638bc1eb1706",
   "metadata": {},
   "source": [
    "From the above summary statistics, we note the presence of outliers in `realSum` with a max of `15499.89`, which is much higher than the mean of `268.47`. \n",
    "\n",
    "I propose histograms of `realSum` in order to visualize how the response is distributed to remove outliers, and to make it easier to understand possible relationships between `realSum` and the predictors."
   ]
  },
  {
   "cell_type": "code",
   "execution_count": null,
   "id": "4525b398-f080-4c57-bb82-8fabf948b517",
   "metadata": {},
   "outputs": [],
   "source": [
    "# Plot a histogram of our response\n",
    "options(repr.plot.width = 8, repr.plot.height = 5)\n",
    "\n",
    "realSum_hist <- data %>%\n",
    "    ggplot(aes(x=realSum)) +\n",
    "    geom_histogram() +\n",
    "    labs(title=\"Histogram of Airbnb prices\", x=\"Total Airbnb Price (Euros)\", y=\"Count\") +\n",
    "    theme(axis.text = element_text(size = 16), \n",
    "          axis.title = element_text(size = 16),\n",
    "         title=element_text(size = 20))\n",
    "\n",
    "realSum_hist"
   ]
  },
  {
   "cell_type": "markdown",
   "id": "834818eb-9a6f-49b6-8efe-23f852edabd0",
   "metadata": {},
   "source": [
    "Above, it looks like our `realSum` values have outliers. I will filter the data to remove values above 1000. In addition, I would like to know the mean, and where 90% of the data falls within (5th and 95th percentile)."
   ]
  },
  {
   "cell_type": "code",
   "execution_count": null,
   "id": "cedad874-d59f-41c8-85d6-802e0a302d95",
   "metadata": {},
   "outputs": [],
   "source": [
    "data_filt <- data %>% \n",
    "    filter(realSum < 1000)\n",
    "\n",
    "realSum_hist_filt <- data_filt %>%\n",
    "    ggplot(aes(x=realSum)) +\n",
    "    geom_histogram() +\n",
    "    geom_vline(xintercept=mean(data$realSum), color = \"red\") +\n",
    "    geom_vline(xintercept=quantile(data$realSum, 0.95), color = \"blue\") +\n",
    "    scale_x_continuous(breaks=seq(0, 1000, 100)) +\n",
    "    ggtitle(\"Histogram of Airbnb prices < 1000\\nwith 95% threshold (blue) and mean price (red)\") +\n",
    "    labs(x=\"Total Airbnb Price\", y=\"Count\") +\n",
    "    theme(axis.text = element_text(size = 15), \n",
    "          axis.title = element_text(size = 15),\n",
    "         title=element_text(size = 16))\n",
    "    \n",
    "\n",
    "realSum_hist_filt"
   ]
  },
  {
   "cell_type": "markdown",
   "id": "2c21652a-1fba-4833-bbe9-2b0256f84c71",
   "metadata": {},
   "source": [
    "It appears that our response data is very right skewed. 95% of Airbnb price listngs fall below `640`, with the average at around `280`. The threshold of `1000` still covers over 95% of listings, and because my question is interested in saving costs, leaving the threshold at `1000` euros is suitable for this EDA."
   ]
  },
  {
   "cell_type": "markdown",
   "id": "7d3d5faa-7f0c-492a-ada1-2cf1431c8ee9",
   "metadata": {},
   "source": [
    "Next, I propose the plots between `realSum` to `metro_dist` and `realSum` to `isWeekend`, as these plots would help to visualize the relationship between the response and predictors. Specifically, a scatterplot for `metro_dist` (continuous) and a boxplot for `isWeekend` (binary).\n",
    "\n",
    "(I also note that possible confounders, or problems such as Simpson's paradox, may need to be corrected in this EDA. However, that is beyond the scope of this planning assignment.)"
   ]
  },
  {
   "cell_type": "code",
   "execution_count": null,
   "id": "91788d1e-bac1-4ff1-aa04-24452c8e3128",
   "metadata": {},
   "outputs": [],
   "source": [
    "realSum_metro <- data_filt %>%\n",
    "    ggplot(aes(x=metro_dist,y=realSum)) +\n",
    "    geom_point() +\n",
    "    ggtitle(\"Airbnb Price vs. Distance to Metro\") +\n",
    "    ylab(\"Airbnb Price (Euros)\") +\n",
    "    xlab(\"Distance to closest Metro (km)\") +\n",
    "    theme(axis.text = element_text(size = 15), \n",
    "          axis.title = element_text(size = 15),\n",
    "         title=element_text(size = 20))\n",
    "\n",
    "realSum_metro"
   ]
  },
  {
   "cell_type": "markdown",
   "id": "3438e7de-7464-4415-a23e-68a220b2dde5",
   "metadata": {},
   "source": [
    "The plot above suggests a weak negative trend between `metro_dist` and `realSum`. It is weak due to the high variability of data points located at smaller distances (0-3 km)."
   ]
  },
  {
   "cell_type": "code",
   "execution_count": null,
   "id": "0c9980b5-79d5-4ad8-a22e-60ef3a58c4ec",
   "metadata": {},
   "outputs": [],
   "source": [
    "realSum_weekend <- data_filt %>%\n",
    "    ggplot(aes(x=isWeekend,y=realSum)) +\n",
    "    geom_boxplot() +\n",
    "    ggtitle(\"Airbnb Price for Weekends vs Weekdays\") +\n",
    "    ylab(\"Airbnb Price (Euros)\") +\n",
    "    xlab(\"On a weekend or not\") +\n",
    "    theme(axis.text = element_text(size = 15), \n",
    "          axis.title = element_text(size = 15),\n",
    "         title=element_text(size = 16))\n",
    "\n",
    "realSum_weekend"
   ]
  },
  {
   "cell_type": "markdown",
   "id": "3e6f68bb-d336-4001-871f-3baf53d270a2",
   "metadata": {},
   "source": [
    "The plot above does not suggest a significant average difference in Airbnb price between listings that are on a weekend, and listings that are not."
   ]
  },
  {
   "cell_type": "markdown",
   "id": "f1b16c3a-20bd-4c5c-b00c-9e9945b145a2",
   "metadata": {},
   "source": [
    "## 4) Methods and Plan\n",
    "\n",
    "To answer my question, “*Is there an association between Airbnb prices to the distance to the closest metro and if the listing is for weekends?*“, I will use an additive MLR model using `lm()`, with the formula: `realSum ~ metro_dist + isWeekend`. This method is appropriate, because `lm()` allows us to quantify and test the significance of associations, with interpretable coefficients. Through hypothesis testing, we will either have evidence suggesting statistically significant associations (a p-value less than a chosen significance level for that coefficient), or not enough evidence.\n",
    "\n",
    "However, we need to make the following assumptions:\n",
    "- Linearity: There is a linear relationship between `realSum` and `metro_dist`.\n",
    "- Independence: The errors (observations) are independent of each other.\n",
    "- Normality: Under the CLT, since our data contains 23042 observations, the data and errors in the data are assumed to be normally distributed.\n",
    "- Homoscedasticity: The errors have constant variance.\n",
    "- There is no interaction between `metro_dist` and `isWeekend` on Airbnb prices. That is, the estimated change in Airbnb price for every change in distance to the metro does not differ depending on if the listing is on a weekend or not.\n",
    "- The covariates are not highly correlated (multicollinearity)\n",
    "\n",
    "There are also the following limitations:\n",
    "- Incorrect Assumptions: If some of our assumptions turn out to be false, then our results may be invalid or require corrections. For instance, if the relationship is non-linear, we may need to transform some covariates.\n",
    "- Confounding: Since the model only includes two variables, there may be other variables that influence both price and metro distance (ie. city). This could result in biased estimates, if not included in the model.\n",
    "- Outliers: Based on the EDA, the data is skewed with outliers, which may result in a model that does not capture representative patterns.\n"
   ]
  },
  {
   "cell_type": "code",
   "execution_count": null,
   "id": "a38b6acd-ac09-49ba-b904-c36b8ace590f",
   "metadata": {},
   "outputs": [],
   "source": []
  }
 ],
 "metadata": {
  "kernelspec": {
   "display_name": "R",
   "language": "R",
   "name": "ir"
  },
  "language_info": {
   "codemirror_mode": "r",
   "file_extension": ".r",
   "mimetype": "text/x-r-source",
   "name": "R",
   "pygments_lexer": "r",
   "version": "4.3.3"
  }
 },
 "nbformat": 4,
 "nbformat_minor": 5
}
