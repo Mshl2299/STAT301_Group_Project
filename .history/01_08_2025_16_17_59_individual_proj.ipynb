{
 "cells": [
  {
   "cell_type": "markdown",
   "id": "95700c07-f6f3-44e5-bb6f-b4ffa110b69b",
   "metadata": {},
   "source": [
    "# Individual Report | Alizah Irfan - Group 15"
   ]
  },
  {
   "cell_type": "markdown",
   "id": "18b1eff3-58b7-4236-81e6-646de10fc208",
   "metadata": {},
   "source": [
    "STAT 301 103"
   ]
  },
  {
   "cell_type": "code",
   "execution_count": null,
   "id": "17baae3a-b792-418d-b5c9-4fdeae772559",
   "metadata": {},
   "outputs": [],
   "source": [
    "library(tidyverse)\n",
    "library(broom)\n",
    "library(dplyr)\n",
    "library(GGally)"
   ]
  },
  {
   "cell_type": "markdown",
   "id": "2cc833d8-d71e-442b-bca1-f78401a9bd1a",
   "metadata": {},
   "source": [
    "## (1) Data Description"
   ]
  },
  {
   "cell_type": "markdown",
   "id": "769110c7-9b0f-4fa0-8025-c6520976920e",
   "metadata": {},
   "source": [
    "Data is collected from Airbnb Prices in European Cities [https://www.kaggle.com/datasets/thedevastator/airbnb-prices-in-european-cities/data]. The data is collected from Airbnb listings. Each city and weekend status has its own dataset with the following variables:"
   ]
  },
  {
   "cell_type": "markdown",
   "id": "f591802c-1eab-4dc4-b2db-929c043b81e4",
   "metadata": {},
   "source": [
    "| Column name   | Description   | Data Type     |\n",
    "| ------------- | ------------- | ------------- |\n",
    "| `realSum` | The total price of the Airbnb listing. | Numeric |\n",
    "| `room_type` | The type of room being offered (e.g. private, shared, etc.). | Categorical |\n",
    "| `room_shared` | Whether the room is shared or not. | Boolean |\n",
    "| `room_private` | Whether the room is private or not. | Boolean |\n",
    "| `person_capacity` | The maximum number of people that can stay in the room. | Numeric |\n",
    "| `host_is_superhost` | Whether the host is a superhost or not. | Boolean |\n",
    "| `multi` | Whether the listing is for multiple rooms or not. | Boolean |\n",
    "| `biz` | Whether the listing is for business purposes or not. | Boolean |\n",
    "| `cleanliness_rating` | The cleanliness rating of the listing. | Numeric |\n",
    "| `guest_satisfaction_overall` | The overall guest satisfaction rating of the listing. | Numeric |\n",
    "| `bedrooms` | The number of bedrooms in the listing. | Numeric |\n",
    "| `dist` | The distance from the city centre. | Numeric |\n",
    "| `metro_dist` | The distance from the nearest metro station. | Numeric |\n",
    "| `lng` | The longitude of the listing. | Numeric |\n",
    "| `lat` | The latitude of the listing. | Numeric |"
   ]
  },
  {
   "cell_type": "markdown",
   "id": "5bf2693b-29ed-44ff-8888-0c7a77e5a26c",
   "metadata": {},
   "source": [
    "We also found the variables `attr_index`, `attr_index_norm`, `rest_index`, `rest_index_norm` in the datasets. However, they were not described."
   ]
  },
  {
   "cell_type": "markdown",
   "id": "a6233b27-1927-4f00-9ddb-7b04d60bd762",
   "metadata": {},
   "source": [
    "The data used for this study will specifically look at the cities London, Rome, and Budapest for both weekends and weekdays - totalling 6 datasets. We combine the 6 datasets into one, adding the `city` and `isWeekend`. We will also select the variables we wish to use for the study (`realSum`, `dist`, `city`)."
   ]
  },
  {
   "cell_type": "markdown",
   "id": "045b160d-afdc-408a-8cf2-6a4e985c5a54",
   "metadata": {},
   "source": [
    "| Added Column name   | Description   | Data Type     |\n",
    "| ------------- | ------------- | ------------- |\n",
    "| `city` | City of Airbnb listing | Categorical |\n",
    "| `isWeekend` | Whether or not a listing is for the weekend | Boolean |"
   ]
  },
  {
   "cell_type": "code",
   "execution_count": null,
   "id": "822df3a2-0cda-4b1d-aebc-fcffe7026fc8",
   "metadata": {},
   "outputs": [],
   "source": [
    "# Function to format data: select vars from dataset and add city name + if it's weekend data\n",
    "tidy_data <- function(data, cityName, isWeekend) {\n",
    "    data <- data %>%\n",
    "            select(realSum, dist) # add in any other predictors\n",
    "    data$city <- cityName\n",
    "    data$isWeekend <- isWeekend\n",
    "    return(data)\n",
    "}\n",
    "\n",
    "# Import and format data with tidy_data()\n",
    "london_weekdays <- (tidy_data(read_csv(\"https://raw.githubusercontent.com/alizahirfan/stat301-project/refs/heads/main/data/london_weekdays.csv\"), \"London\", 0))\n",
    "london_weekends <- (tidy_data(read_csv(\"https://raw.githubusercontent.com/alizahirfan/stat301-project/refs/heads/main/data/london_weekends.csv\"), \"London\", 1))\n",
    "rome_weekdays <- (tidy_data(read_csv(\"https://raw.githubusercontent.com/alizahirfan/stat301-project/refs/heads/main/data/rome_weekdays.csv\"), \"Rome\", 0))\n",
    "rome_weekends <- (tidy_data(read_csv(\"https://raw.githubusercontent.com/alizahirfan/stat301-project/refs/heads/main/data/rome_weekends.csv\"), \"Rome\", 1))\n",
    "budapest_weekdays <- (tidy_data(read_csv(\"https://raw.githubusercontent.com/alizahirfan/stat301-project/refs/heads/main/data/budapest_weekdays.csv\"), \"Budapest\", 0))\n",
    "budapest_weekends <- (tidy_data(read_csv(\"https://raw.githubusercontent.com/alizahirfan/stat301-project/refs/heads/main/data/budapest_weekends.csv\"), \"Budapest\", 1))\n",
    "\n",
    "# Merge all the data together\n",
    "data <- rbind(london_weekdays, london_weekends, rome_weekdays, rome_weekends, budapest_weekdays, budapest_weekends)\n",
    "\n",
    "data <- data %>%\n",
    "        select(-isWeekend)\n",
    "\n",
    "# Viewing the top and bottom 5 rows\n",
    "# head(data)\n",
    "# tail(data)"
   ]
  },
  {
   "cell_type": "markdown",
   "id": "094bdfd8-f984-4611-ae2d-ee95c5db72d5",
   "metadata": {},
   "source": [
    "Now we have a single dataset containing all the observations for the relevant cities with only our key variables selected. However, this dataset may contain outliers and we have to ensure that the column for `city` is a factor. This will be done by the code below. The top and bottom 5 rows of our data will be printed along with the dimensions."
   ]
  },
  {
   "cell_type": "code",
   "execution_count": null,
   "id": "f9d8911c-cfdb-40ff-9368-98c7a6c09165",
   "metadata": {},
   "outputs": [],
   "source": [
    "tidy_data <-\n",
    "    data %>%\n",
    "    mutate(\n",
    "            across(c(city),as.factor)\n",
    "    ) %>%\n",
    "    group_by(city) %>%\n",
    "    filter(\n",
    "        realSum >= quantile(realSum, 0.05, na.rm = TRUE),\n",
    "        realSum <= quantile(realSum, 0.95, na.rm = TRUE)) %>%\n",
    "    ungroup()\n",
    "dim(tidy_data)\n",
    "head(tidy_data)\n",
    "tail(tidy_data)"
   ]
  },
  {
   "cell_type": "markdown",
   "id": "1680db07-cb6f-474b-8a6b-35a75be95f44",
   "metadata": {},
   "source": [
    "From the output, we can see that `realSum` and `dist` are considered `<dbl>` and `city` is `<fct>`, which is correct for analysis. Additonally, we have a total of 20742 observations, which is a large sample size."
   ]
  },
  {
   "cell_type": "markdown",
   "id": "98630c01-b74a-478d-8a83-870a166b0dfa",
   "metadata": {},
   "source": [
    "## (2) Question"
   ]
  },
  {
   "cell_type": "markdown",
   "id": "5211765f-2345-4a25-b8d7-ab17108896d1",
   "metadata": {},
   "source": [
    "The goal for this study is to discover results that would be helpful for people who are opening Airbnb's in one of the 3 mentioned cities (London, Rome, Budapest) and want insight into setting the price for their listing. The following question can guide our model:"
   ]
  },
  {
   "cell_type": "markdown",
   "id": "9631f6b1-a6f5-4742-8657-fd62944cc7bd",
   "metadata": {},
   "source": [
    "**How is the average price of an Airbnb listing affected by the city it's located in and distance from the city centre?**"
   ]
  },
  {
   "cell_type": "markdown",
   "id": "f546d110-9ec8-41f3-9a1b-f6e39db7a2a3",
   "metadata": {},
   "source": [
    "This is an inference question - by analyzing this sample data in regard to the question, we can infer the behaviour of the population data. Our population in this case would be all Airbnb's located in London, Rome, and Budapest. The response variable will be the price of the Airbnb listing (`realSum`) and the covariates will be the city of the listing (`city`) and distance to city centre (`dist`). We will also assume there is a possible interaction between the two covariates since certain cities may have better transit options to the city centre than others despite longer distances which could impact the associations between `dist` and `realSum`. The model for this problem will follow this formula: `realSum ~ city * dist`. We can use exploratory visualizations to ensure that some of our assumptions for this formula are reasonable."
   ]
  },
  {
   "cell_type": "markdown",
   "id": "904f4304-d8d1-4bb6-95b9-065dde8d66de",
   "metadata": {},
   "source": [
    "## (3) Exploratory Data Analysis and Visualization"
   ]
  },
  {
   "cell_type": "markdown",
   "id": "2785d841-9772-4594-8a15-de964fb003d8",
   "metadata": {},
   "source": [
    "We have imported and tidied the data in section (1). Now, we can take a closer look at the distribution of variables and there relation to one another through visualizations. "
   ]
  },
  {
   "cell_type": "markdown",
   "id": "8789cdd4-f2e2-48ac-9213-69bc028624e7",
   "metadata": {},
   "source": [
    "Since `realSum` is our response variable, we can take a look at a distribution of all the values in that column. Additionally, we can add lines to mark the 90% percentile and the mean value."
   ]
  },
  {
   "cell_type": "code",
   "execution_count": null,
   "id": "1ab375e3-b146-4dbc-9a93-a2f16b865283",
   "metadata": {},
   "outputs": [],
   "source": [
    "options(repr.plot.width = 8, repr.plot.height = 6) \n",
    "\n",
    "q5 <- quantile(tidy_data$realSum, 0.05, na.rm = TRUE)\n",
    "q95 <- quantile(tidy_data$realSum, 0.95, na.rm = TRUE)\n",
    "\n",
    "tidy_data %>% \n",
    "    ggplot(aes(x = realSum)) +\n",
    "    geom_histogram(bins = 30, fill = \"#69b3a2\", color = \"white\", alpha = 0.9) +\n",
    "    geom_vline(aes(xintercept = mean(realSum, na.rm = TRUE)),\n",
    "             color = \"red\", linetype = \"dashed\", size = 1) +\n",
    "    geom_vline(xintercept = q5, color = \"red\", linetype = \"solid\", size = 0.7) +\n",
    "    geom_vline(xintercept = q95, color = \"red\", linetype = \"solid\", size = 0.7) +\n",
    "    xlab(\"realSum\") +\n",
    "    ylab(\"Count\") +\n",
    "    ggtitle(\"Distribution of realSum values\") "
   ]
  },
  {
   "cell_type": "markdown",
   "id": "d223805d-b90f-43f2-b013-576a20414c62",
   "metadata": {},
   "source": [
    "We can see that the distribution of values of the response variable in this sample has a right skew. Thus, the mean value also lies closer to the 5% quantile line. This is simply the distribution of our sample, and we'd have to apply other techniques (ie bootstrapping) to gain more insight into the population distribution."
   ]
  },
  {
   "cell_type": "markdown",
   "id": "494172cc-e5ef-4a5f-aa17-0d1ad205d100",
   "metadata": {},
   "source": [
    "We can also visualize a scatter plot of all our data points. We can colour code are points by city and set a lower transparency so we can see areas of high density of points."
   ]
  },
  {
   "cell_type": "code",
   "execution_count": null,
   "id": "5ad38d83-e7e5-441d-8b58-6f8e6bfc55c6",
   "metadata": {},
   "outputs": [],
   "source": [
    "tidy_data %>%\n",
    "    ggplot(aes(x = dist, y = realSum, color = city)) +\n",
    "    geom_point(alpha = 0.2)"
   ]
  },
  {
   "cell_type": "markdown",
   "id": "73750300-3dad-4b19-bcf5-1ab82f04731c",
   "metadata": {},
   "source": [
    "We can see form the plot above that there are certain areas of the graph that have a high density of points for a particular study, thus a potential pattern emerges between `realSum` and `dist` that requires we factor in `city`. A line graph may show clearer relations. We 'bin' the values of `dist` together by grouping together values that are equal when rounded to the nearest ones. We can visualize the average value of our response for each 'bin' and colour code by city."
   ]
  },
  {
   "cell_type": "code",
   "execution_count": null,
   "id": "7c123c53-8339-4626-b3af-19339ce3c2ff",
   "metadata": {},
   "outputs": [],
   "source": [
    "data_binned <- tidy_data\n",
    "data_binned$dist <- round(data_binned$dist, 0)\n",
    "\n",
    "data_binned <- data_binned %>%\n",
    "                group_by(city, dist) %>%\n",
    "                summarize(avg_realSum = mean(realSum))\n",
    "\n",
    "data_binned %>%\n",
    "    ggplot(aes(x = dist, y = avg_realSum, color = city)) +\n",
    "    geom_point() +\n",
    "    geom_line() +\n",
    "    xlab(\"Distance\") +\n",
    "    ylab(\"Average realSum\") +\n",
    "    ggtitle(\"Average Listing Price vs Distance from City Centre Based on Location\") "
   ]
  },
  {
   "cell_type": "markdown",
   "id": "dec75b54-ca26-4ea0-ab5a-bfd0757c5335",
   "metadata": {},
   "source": [
    "We can see a clearer pattern between our inputs and response variables through this plot. It seems that the lines for distance may have a different slope that is dependant on the city, which further validates using a model with an interaction term between the two inputs. A potential problem of using a linear model is that the lines we see have a lot of kinks and using a straight-line model can possibly cause an over-generalization of the data. What about disincluding city from this model? The plot below shows the relation between distance and listing price through the same 'binning' process without seperating by the city."
   ]
  },
  {
   "cell_type": "code",
   "execution_count": null,
   "id": "89847b7a-46c7-45e7-8963-565dd008f463",
   "metadata": {},
   "outputs": [],
   "source": [
    "data_binned <- tidy_data\n",
    "data_binned$dist <- round(data_binned$dist, 0)\n",
    "\n",
    "data_binned <- data_binned %>%\n",
    "                group_by(dist) %>%\n",
    "                summarize(avg_realSum = mean(realSum))\n",
    "\n",
    "data_binned %>%\n",
    "    ggplot(aes(x = dist, y = avg_realSum)) +\n",
    "    geom_point() +\n",
    "    geom_line() +\n",
    "    xlab(\"Distance\") +\n",
    "    ylab(\"Average realSum\") +\n",
    "    ggtitle(\"Average Listing Price vs Distance from City Centre\") "
   ]
  },
  {
   "cell_type": "markdown",
   "id": "cbbc4490-2394-4baf-bece-62ad8caa633d",
   "metadata": {},
   "source": [
    "We can see that including city provides a nuance that we are not able to see in the distance vs listing price plot and thus should be considered in our model so that we can get more detailed results. "
   ]
  },
  {
   "cell_type": "markdown",
   "id": "e76032d3-e0c9-4030-a3af-3943f2fa4076",
   "metadata": {},
   "source": [
    "## (4) Methods and Plan"
   ]
  },
  {
   "cell_type": "markdown",
   "id": "6ded4867-3e06-4321-845c-aeeb49d3ab5e",
   "metadata": {},
   "source": [
    "We are planning on using multiple linear regression with interaction to estimate Airbnb prices based on city and distance from city centre. An MLR model is the appropriate choice for answering an inference question with 2 inputs and continuous numerical response. We will consider a model with interaction due to the results of the EDA: it seems the slope between `dist` and `realSum` are dependent on city. The formula for this regression will be: `realSum ~ city * dist`.<br>\n",
    "As with any model, there are certain assumption made about the data. The assumptions about MLR with interactionin relation to our data is as follows: <br>"
   ]
  },
  {
   "cell_type": "markdown",
   "id": "fea30baa-5972-4d21-9289-96e1f520396c",
   "metadata": {},
   "source": [
    "- **Linearity:** Based on our EDA, we are assuming that our response is approximately a linear function of our inputs and their interaction term  \n",
    "- **Independence of Errors:** We assume that are observations are independent of each other. This data is from an outside source so we can never know this for sure.  \n",
    "- **Homoscedasticity:** We can test if the variance of errors is constant through a residuals vs fitted values plot.  \n",
    "- **Normality of Residuals:** We can see if the residuals have a normal distribution through a Q-Q plot.  \n",
    "- **Minimal Multicollinearity:** We can check if our inputs are highly correlated through their VIF score.  \n",
    "- **Correct Specification:** We are assuming that we have correctly specified the model with an interaction term from the result of our EDA. \n",
    "- **Correct Variable Encoding:** We ensured that, when we loaded the data, each relevant variable had the correct variable type for the model.  "
   ]
  },
  {
   "cell_type": "markdown",
   "id": "ef8cc788-e7b0-4a9b-943c-815496b60336",
   "metadata": {},
   "source": [
    "Following these assumptions ensures that the results from our model are appropriate for inference since we can attain reliable estimates, confidence intervals, and errors.\n",
    "There are still possible difficulties and weaknesses of our choice in model. Violating some of the assumptions may mean we cannot answer our question since it relies on making inferences. Adding in an interaction term could possible lead to overfitting the model, which may lead to poor predictions. Having too few input variables may mean that we result in a model with high errors if we are missing the potentially large impact of other variables. There's always the possiblity of confounding variables as well. Since this is an external observational study, we cannot easily discover or isolate them from the data. "
   ]
  },
  {
   "cell_type": "markdown",
   "id": "9fd205c7-dbc2-4ee1-8885-a2b92674fb3f",
   "metadata": {},
   "source": [
    "To summarize, we can use a MLR model with interaction to infer the association between the listing price of all Airbnbs in Rome, Budapest, and London depending on their city and distance from city centre. Our EDA justifies the appropriateness of this model. However, there are assumptions for this type of model we'd have to further test for and other possible weaknesses that may prevent us from answering our inference question."
   ]
  },
  {
   "cell_type": "code",
   "execution_count": null,
   "id": "2dbe9733-1aeb-4b31-89a9-c281638a0bfd",
   "metadata": {},
   "outputs": [],
   "source": []
  }
 ],
 "metadata": {
  "kernelspec": {
   "display_name": "R",
   "language": "R",
   "name": "ir"
  },
  "language_info": {
   "codemirror_mode": "r",
   "file_extension": ".r",
   "mimetype": "text/x-r-source",
   "name": "R",
   "pygments_lexer": "r",
   "version": "4.3.3"
  }
 },
 "nbformat": 4,
 "nbformat_minor": 5
}
