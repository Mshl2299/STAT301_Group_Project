{
 "cells": [
  {
   "cell_type": "markdown",
   "id": "1be06998-d3c5-4fa8-985c-07249e7c6c78",
   "metadata": {},
   "source": [
    "<h1> Predicting Airbnb Price in European Cities </h1>"
   ]
  },
  {
   "cell_type": "markdown",
   "id": "16aba0b8-6b3d-4b36-9a60-dd395034c59c",
   "metadata": {},
   "source": [
    "**Group 15** <br>\n",
    "Mathew <br>\n",
    "Marcus <br>\n",
    "Zahra <br>\n",
    "Alizah <br>"
   ]
  },
  {
   "cell_type": "markdown",
   "id": "e0e20d37-9d20-4929-a2f0-77d7019f3bd7",
   "metadata": {},
   "source": [
    "# Introduction\n",
    "\n",
    "Nowadays, the role of the sharing economy in tourism is increasing, and the number of people involved as guests or hosts is rising day by day. This dynamic generates a viable alternative to the traditional services, allowing tourists to customize their trips and enrich their experiences.\n",
    "\n",
    "Airbnb began as a way for travellers to find unique, local experiences and accommodations, and for hosts to earn extra income by renting out spare rooms, apartments, or entire homes. Over time, it has expanded to include a wide range of options—from urban apartments and rural cabins to luxury villas and even treehouses—offering travellers diverse ways to stay and explore around the world.\n",
    "Airbnb operates on a sharing economy model, where hosts can monetize their property by listing it on the platform. The platform is accessible via the Airbnb website or mobile app, enabling both hosts and guests to manage bookings, communicate, and leave reviews."
   ]
  },
  {
   "cell_type": "markdown",
   "id": "19ba84f9-56f8-45b0-bf5b-7cb9d7d99d55",
   "metadata": {},
   "source": [
    "### Data Description\n",
    "Our analysis will use the dataset [Airbnb Prices in European Cities](https://www.kaggle.com/datasets/thedevastator/airbnb-prices-in-european-cities/data), sourced from kaggle.\n",
    "\n",
    "This dataset contains detailed Airbnb listing information from several major European cities. We will focus on London, Rome, and Budapest, for a total of 23,042 observations. It includes attributes such as room type, host status, guest satisfaction, number of bedrooms, and geographic data (distance from city center, latitude, and longitude), enabling spatial econometric analysis of weekday and weekend pricing. The data appears to be aggregated from Airbnb listings and reviews, reflecting both social and geographical influences on rental pricing strategies."
   ]
  },
  {
   "cell_type": "markdown",
   "id": "576006f2-b25b-496c-99d1-e6e3f3ea1e97",
   "metadata": {},
   "source": [
    "There are 20 variables in the original dataset, however, one is the `id` column which is the same as the row number, and four others (`attr_index`, `attr_index_norm`, `rest_index`, `rest_index_norm`) are not explained in detail. This leaves us with 15 variables, detailed below:\n",
    "\n",
    "| Column name   | Description   | Data Type     |\n",
    "| ------------- | ------------- | ------------- |\n",
    "| `realSum` | The total price of the Airbnb listing (Euros). | Numeric |\n",
    "| `room_type` | The type of room being offered (e.g. private, shared, etc.). | Categorical |\n",
    "| `room_shared` | Whether the room is shared or not. | Boolean |\n",
    "| `room_private` | Whether the room is private or not. | Boolean |\n",
    "| `person_capacity` | The maximum number of people that can stay in the room. | Numeric |\n",
    "| `host_is_superhost` | Whether the host is a superhost or not. | Boolean |\n",
    "| `multi` | Whether the listing is for multiple rooms or not. | Boolean |\n",
    "| `biz` | Whether the listing is for business purposes or not. | Boolean |\n",
    "| `cleanliness_rating` | The cleanliness rating of the listing. | Numeric |\n",
    "| `guest_satisfaction_overall` | The overall guest satisfaction rating of the listing. | Numeric |\n",
    "| `bedrooms` | The number of bedrooms in the listing. | Numeric |\n",
    "| `dist` | The distance from the city centre. | Numeric |\n",
    "| `metro_dist` | The distance from the nearest metro station. | Numeric |\n",
    "| `lng` | The longitude of the listing. | Numeric |\n",
    "| `lat` | The latitude of the listing. | Numeric |\n"
   ]
  },
  {
   "cell_type": "markdown",
   "id": "c6895815-047e-4c63-9de5-7442433b1a02",
   "metadata": {},
   "source": [
    "In addition, we add the following two variables as a result of merging the data, for a total of 17 variables: \n",
    "\n",
    "| Column name   | Description   | Data Type     |\n",
    "| ------------- | ------------- | ------------- |\n",
    "| `city` | The city location of the Airbnb listing. | Categorical |\n",
    "| `isWeekend` | Whether the listing is for weekends or not. | Boolean |\n",
    "\n",
    "From the above, we will drop `lng` and `lat`, because they must be considered in a grouped and discrete manner to be meaningful, and may also be collinear with `dist`, `metro_dist` and `city`. "
   ]
  },
  {
   "cell_type": "markdown",
   "id": "d19ace18-3c81-4c9d-b536-272b30a1c693",
   "metadata": {},
   "source": [
    "We want to know what the key determinants of the price of an Airbnb listing are, as this is a question of importance from both perspectives: listing a place as a host, or from the point of view of a guest looking for an accommodation. An accurate assessment of Airbnb price determinants is essential not only for tourism management but also for urban planning. Previous studies on Airbnb listings have shown that size, quality, and host reputation play a significant role, along with the location of the Airbnb."
   ]
  },
  {
   "cell_type": "markdown",
   "id": "5792bc98-05d3-49cd-91be-e8f437202bb7",
   "metadata": {},
   "source": [
    "### **Our Question:** Which factors are most useful for predicting the price of an Airbnb listing?"
   ]
  },
  {
   "cell_type": "markdown",
   "id": "f3be67d3-fdb9-4e19-96a3-7cfdbcd3c74e",
   "metadata": {},
   "source": [
    "Until now, different studies have been focussed on price determinants of Airbnb listings, their results emphasising the complexity of the relationship between pricing and its determinants. Moreover, different authors suggest that the relationship between price and its determinants differ undoubtedly across cities/countries/regions due to the variation in city types, city economics, and Airbnb development in the region."
   ]
  },
  {
   "cell_type": "markdown",
   "id": "b4228446-e9b5-4bf7-81eb-924dd1807f21",
   "metadata": {},
   "source": [
    "** Literature portion**\n",
    "\n",
    "** ADD IN LINK TO LITERATURE WITH IN TEXT CITATIONS **"
   ]
  },
  {
   "cell_type": "markdown",
   "id": "564caa2e-8dc2-47f1-917c-59710536058f",
   "metadata": {},
   "source": [
    "# Methods and Results"
   ]
  },
  {
   "cell_type": "markdown",
   "id": "b53dbc17-e7e0-4d4a-a1a6-db0fb661c434",
   "metadata": {},
   "source": [
    "## a) Exploratory Data Analysis\n",
    "To begin our analysis, we start by reading our data, with modfications to keep it tidy."
   ]
  },
  {
   "cell_type": "code",
   "execution_count": null,
   "id": "127db2dc-ef75-4d5c-9d2b-ca9f757bcf22",
   "metadata": {},
   "outputs": [],
   "source": [
    " install.packages(\"mltools\")\n",
    " install.packages(\"glmnet\")\n",
    " install.packages(\"leaps\")"
   ]
  },
  {
   "cell_type": "code",
   "execution_count": null,
   "id": "30993725-dabf-4660-9c9d-dce36c90c0a8",
   "metadata": {},
   "outputs": [],
   "source": [
    "# Libraries & Packages\n",
    "library(tidyverse)\n",
    "library(dplyr)\n",
    "library(mltools)\n",
    "library(rsample)\n",
    "library(MASS)\n",
    "library(car)"
   ]
  },
  {
   "cell_type": "code",
   "execution_count": null,
   "id": "8581ad4a-fb75-4e60-b36c-82e1c0d5512a",
   "metadata": {},
   "outputs": [],
   "source": [
    "# Main developer: Alizah\n",
    "# Contributor: Marcus (modified read function)\n",
    "\n",
    "# Function to format & read data: \n",
    "# select vars from dataset and add city name + if it's weekend data\n",
    "tidy_data <- function(path, cityName, isWeekend) {\n",
    "    data <- read_csv(path, show_col_types = FALSE) %>%\n",
    "            dplyr::select(-...1, -attr_index, -attr_index_norm, -rest_index, -rest_index_norm, -lng,-lat)\n",
    "    data$room_type <- as.factor(data$room_type)\n",
    "    data$city <- as.factor(cityName)\n",
    "    data$isWeekend <- as.logical(isWeekend)\n",
    "    return(data)\n",
    "}\n",
    "\n",
    "# Import and format data with tidy_data()\n",
    "london_weekdays <- tidy_data(\"data/london_weekdays.csv\", \"London\", 0)\n",
    "london_weekends <- tidy_data(\"data/london_weekends.csv\", \"London\", 1)\n",
    "rome_weekdays <- tidy_data(\"data/rome_weekdays.csv\", \"Rome\", 0)\n",
    "rome_weekends <- tidy_data(\"data/rome_weekends.csv\", \"Rome\", 1)\n",
    "budapest_weekdays <- tidy_data(\"data/budapest_weekdays.csv\", \"Budapest\", 0)\n",
    "budapest_weekends <- tidy_data(\"data/budapest_weekends.csv\", \"Budapest\", 1)\n",
    "\n",
    "# Merge all the data together\n",
    "data <- rbind(london_weekdays, london_weekends, rome_weekdays, rome_weekends, budapest_weekdays, budapest_weekends)\n",
    "\n",
    "# View the head and tail of the data\n",
    "head(data, 3)\n",
    "tail(data, 3)"
   ]
  },
  {
   "cell_type": "code",
   "execution_count": null,
   "id": "6eecbfd1-f18b-46d1-bff5-e7b788e6442f",
   "metadata": {},
   "outputs": [],
   "source": [
    "# Main developer: Matthew\n",
    "# Contributor: Zahra(Style Guide)\n",
    "\n",
    "data <- data %>%\n",
    "    mutate(\n",
    "        #Convert to factor\n",
    "        across(c(room_type, city), as.factor),\n",
    "        \n",
    "        #Convert to logical\n",
    "        across(c(multi, biz, isWeekend), as.logical)\n",
    "        )"
   ]
  },
  {
   "cell_type": "markdown",
   "id": "d3b20c5e-d7f8-4cf0-bd31-507972bf5e40",
   "metadata": {},
   "source": [
    "The data now appears to be in a tidy format.\n",
    "\n",
    "Let's go through an EDA checklist:\n",
    "- Packaging (& Wrangling as needed)\n",
    "- Head and tail of data (presented in a tidy format)\n",
    "- Check for NA values\n",
    "- Check n's and summary statistics\n",
    "- Plot visualizations for variables of interest"
   ]
  },
  {
   "cell_type": "code",
   "execution_count": null,
   "id": "2add969a-5534-44bb-94a6-ac4af131821b",
   "metadata": {},
   "outputs": [],
   "source": [
    "# Main developer: Marcus\n",
    "\n",
    "# Inspect data structure\n",
    "str(data)\n",
    "cat(\"\\n\")\n",
    "\n",
    "# Check for missing/NA values\n",
    "cat(\"NA values present?: \", anyNA(data))\n",
    "cat(\"\\n\")\n",
    "\n",
    "# Compute summary statistics & check numbers\n",
    "cat(\"Data dimensions: \", dim(data))\n",
    "cat(\"\\n\\n\")\n",
    "summary(data)"
   ]
  },
  {
   "cell_type": "markdown",
   "id": "905e893a-b474-42ef-8e9b-a5968b113f9f",
   "metadata": {},
   "source": [
    "From the above summary statistics, we note the presence of outliers in `realSum` with a max of `15499.89`, which is much higher than the mean of `268.47`. \n",
    "\n",
    "A histogram of `realSum` will help visualize the distribution of our response and to remove outliers, to better understand possible relationships between `realSum` and the predictors."
   ]
  },
  {
   "cell_type": "code",
   "execution_count": null,
   "id": "dd46ac28-88ee-4618-ad5a-6d04790d1e1d",
   "metadata": {},
   "outputs": [],
   "source": [
    "# Main developer: Marcus\n",
    "# Contributor: Zahra(Style Guide)\n",
    "\n",
    "# Plot a histogram of our response variable \n",
    "options(repr.plot.width = 8, repr.plot.height = 5)\n",
    "\n",
    "realSum_hist <- data %>%\n",
    "    ggplot(aes(x = realSum)) +\n",
    "    geom_histogram() +\n",
    "    labs(\n",
    "        title = \"Histogram of Airbnb Prices\", \n",
    "        x = \"Total Airbnb Price (Euros)\", \n",
    "        y = \"Count\"\n",
    "    ) +\n",
    "    theme(\n",
    "        axis.text = element_text(size = 16), \n",
    "        axis.title = element_text(size = 16),\n",
    "        title = element_text(size = 20)\n",
    "    )\n",
    "\n",
    "realSum_hist"
   ]
  },
  {
   "cell_type": "markdown",
   "id": "b3c3f60b-6c09-40ed-93c9-4881efb0846c",
   "metadata": {},
   "source": [
    "Above, we clearly have large outliers in `realSum`. Let's filter the data to only contain the 95th percentile of `realSum`, stratified by city, and plot the histogram again, and this time include the mean. "
   ]
  },
  {
   "cell_type": "code",
   "execution_count": null,
   "id": "8ebede97-8467-4665-a211-ef8993ceb4fc",
   "metadata": {},
   "outputs": [],
   "source": [
    "# Main developer: Marcus\n",
    "# Contributor: Matthew (filtering)\n",
    "# Contributor: Zahra(Style Guide)\n",
    "\n",
    "# Filtering Outliers from each city by removing listings above the 95th percentile\n",
    "data_filt <- data %>% \n",
    "    group_by(city) %>%\n",
    "    filter(realSum <= quantile(realSum, 0.95, na.rm = TRUE)) %>%\n",
    "    ungroup()"
   ]
  },
  {
   "cell_type": "code",
   "execution_count": null,
   "id": "4fb94d59-809d-4e05-8886-b5d4c77ab5f5",
   "metadata": {},
   "outputs": [],
   "source": [
    "# Main developer: Marcus\n",
    "# Contributor: Zahra(Style Guide and Aesthetics)\n",
    "\n",
    "# Plot filtered histogram with Mean and 95th Percentile lines\n",
    "\n",
    "realSum_hist_filt <- data_filt %>%\n",
    "    ggplot(aes(x = realSum)) +\n",
    "    geom_histogram(fill = \"gray\", color = \"black\") +\n",
    "    geom_vline(xintercept = mean(data$realSum), color = \"red\", linetype = \"dashed\", size = 1) +\n",
    "    geom_vline(xintercept = quantile(data$realSum, 0.95), color = \"blue\", linetype = \"dashed\", size = 1) +\n",
    "    scale_x_continuous(breaks = seq(0, 1000, 100)) +\n",
    "    ggtitle(\"Histogram of Airbnb Prices at 95th percentile\\nwith 95% threshold (blue) and mean price (red)\") +\n",
    "    labs(x = \"Total Airbnb Price\", y = \"Count\") +\n",
    "    theme(\n",
    "        axis.text = element_text(size = 15), \n",
    "        axis.title = element_text(size = 15),\n",
    "        title = element_text(size = 16)\n",
    "    )\n",
    "    \n",
    "realSum_hist_filt"
   ]
  },
  {
   "cell_type": "markdown",
   "id": "53db38c7-678c-42d5-9e18-e0f42b6e7704",
   "metadata": {},
   "source": [
    "It appears that our response data is very right skewed. 95% of Airbnb price listngs fall below about `900` when stratified by city, and fall below about `640` overal. The average price for all cities is about `280`. There also appears to be outliers at very low Airbnb price, so let's filter those, and then examine how the price varies per city."
   ]
  },
  {
   "cell_type": "code",
   "execution_count": null,
   "id": "04ff4f46-84c5-441d-973c-4e86629011e5",
   "metadata": {},
   "outputs": [],
   "source": [
    "# Main developer: Marcus\n",
    "\n",
    "# Filter again to exclude lower 5%\n",
    "data_filt <- data_filt %>%\n",
    "    group_by(city) %>%\n",
    "    filter(realSum >= quantile(realSum, 0.05, na.rm = TRUE)) %>%\n",
    "    ungroup()"
   ]
  },
  {
   "cell_type": "code",
   "execution_count": null,
   "id": "3b653326-d5a2-4763-95f6-ff3b4a4414ef",
   "metadata": {},
   "outputs": [],
   "source": [
    "# Main developer: Matthew\n",
    "# Contributor: Zahra(Style Guide)\n",
    "\n",
    "#Set plot size\n",
    "options(repr.plot.height = 6, repr.plot.width = 8)\n",
    "\n",
    "# Creating a Boxplot to examine distribution of listing prices by city\n",
    "city_listing_plot <-\n",
    "    data_filt %>%\n",
    "    ggplot(aes(x = city, y = realSum, fill = city)) +\n",
    "    geom_boxplot()+\n",
    "    stat_summary(\n",
    "        aes(x = city, y = realSum),\n",
    "        fun = mean, \n",
    "        geom = \"point\", \n",
    "        colour = \"yellow\", \n",
    "        shape = 18, \n",
    "        size = 5\n",
    "    ) +\n",
    "    ggtitle(\"Distribution of Listing Prices in Different Cities\") +\n",
    "    xlab(\"Cities\") +\n",
    "    ylab(\"Listing Prices (EUR)\") +\n",
    "    theme(\n",
    "        text = element_text(size = 12),\n",
    "        plot.title = element_text(face = \"bold\"),\n",
    "        axis.title = element_text(face = \"bold\")\n",
    "    )\n",
    "city_listing_plot"
   ]
  },
  {
   "cell_type": "markdown",
   "id": "a8454310-7010-42e4-b9aa-c0e132a303c7",
   "metadata": {},
   "source": [
    "The box plot above that shows the distribution of listing prices across Budapest, London and Rome, it helps with the question as it allows one to see how the listing prices varies between cities.\n",
    "\n",
    "Starting with Budapest, it has the smallest variability in its distribution as well as the lowest median and mean. London, has the largest variability in its distribution and higher median and mean. Lastly, Rome has a variability in its distribution of listing prices thats relatively larger than Budapest as well a larger median and mean than Budapest but lower than London.\n",
    "\n",
    "Budapest and Rome shares a relatively similar distribution, median and mean of listing prices to one another, but London's wider distribution and higher median and mean may affect the goodness of fit of the model.\n"
   ]
  },
  {
   "cell_type": "code",
   "execution_count": null,
   "id": "fa5a775e-7652-4281-bd25-38e1cfa226e1",
   "metadata": {},
   "outputs": [],
   "source": [
    "data_to_encode <- dplyr::select(data_filt, -realSum)\n",
    "\n",
    "encoded_df <- as.data.frame(model.matrix(~ . - 1, data = data_to_encode))\n",
    "\n",
    "cor_matrix <- \n",
    "    encoded_df %>%\n",
    "    cor() %>%\n",
    "    as_tibble(rownames = 'var1') %>%\n",
    "    pivot_longer(-var1, names_to = \"var2\", values_to = \"corr\")\n",
    "\n",
    "filtered_cor_var <- cor_matrix %>%\n",
    "                    filter(abs(corr) > 0.5, var1 < var2)\n",
    "\n",
    "filtered_cor_var"
   ]
  },
  {
   "cell_type": "code",
   "execution_count": null,
   "id": "8737df4c-86fb-48a6-a7b8-d0862b6b4aae",
   "metadata": {},
   "outputs": [],
   "source": [
    "cor_matrix <- \n",
    "    encoded_df %>%\n",
    "    dplyr::select(-'room_typeEntire home/apt', -'room_typeShared room', -'room_typePrivate room', -'cleanliness_rating', -'person_capacity', -'metro_dist', -'bizTRUE') %>%\n",
    "    cor() %>%\n",
    "    as_tibble(rownames = 'var1') %>%\n",
    "    pivot_longer(-var1, names_to = \"var2\", values_to = \"corr\")\n",
    "\n",
    "filtered_cor_var <- cor_matrix %>%\n",
    "                    filter(abs(corr) > 0.5, var1 < var2)\n",
    "\n",
    "filtered_cor_var"
   ]
  },
  {
   "cell_type": "code",
   "execution_count": null,
   "id": "7132b0bc-3725-468c-a43a-7362b11c4ead",
   "metadata": {},
   "outputs": [],
   "source": [
    "data_filt <- dplyr::select(data_filt, -room_type, -cleanliness_rating, -person_capacity, -metro_dist, -biz)"
   ]
  },
  {
   "cell_type": "markdown",
   "id": "50ed76d4-f706-446a-a147-addffc8dfe4d",
   "metadata": {},
   "source": [
    "## b) Analysis Plan"
   ]
  },
  {
   "cell_type": "markdown",
   "id": "129e56e9-064b-4f1d-9884-18cd0badaace",
   "metadata": {
    "jp-MarkdownHeadingCollapsed": true
   },
   "source": [
    "Since we are analyzing a prediction question, it's important that we separate the data into testing and training sets to prevent double-dipping and to get an accurate understanding of the our model's scalability. The rsample package will help us for this task. We will use initial_split() to randomly split our dataset, with 80% for training use. We will use the training() and testing() functions to extract the training and testing data respectively. \n",
    "\n",
    "#### Training: \n",
    "We will only use the training dataset here. We have 16 variables in our dataset that could be possible predictors of Airbnb listing price. We can use statistical variable selection process to determine which factors may be most useful in predicting our response. We can decide between subset selection methods (stepAIC() and regsubset()) and regularization methods (LASSO and Ridge). Regularization accounts for model complexity to better protect against overfitting, thus making it more applicable for predictive uses. Since LASSO is able to zero-out coefficients, we will use it to decide which variables are not included in the model.\n",
    "\n",
    "In order to use LASSO effectively, we must first find the best penalty term - the one that minimizes prediction error on unseen data. We can use cross validation to find this optimal value using the glmnet package. We will create a cross-validation model that utilizes LASSO, then select the lambda with the lowest MSE. We can also extract the coefficients from this model to see which variables have been selected and their relative association to realSum.\n",
    "\n",
    "\n",
    "#### Testing:\n",
    "We will only use the testing dataset here. With our model completed, we can move on to predictions. We will use predict() with our cross-validation LASSO model, our selected penalty term, and our testing dataset to generate predicted values for realSum. \n",
    "\n",
    "### Evaluate Results:\n",
    "With our actual and predicted values, we can calculate the root-mean squared error using rmse() (from mltools) and examine its magnitude. A lower RMSE indicates that our model is good at predicting realSum values. We can use plot() with our predicted and actual values as a visual aid of our model's performance. We can evaluate the simplicity of our model by seeing how many variables are use as predictors compared to the total number of variables in the dataset. Finally, we will create a plot of our residuals (plot()) and a QQplot (qqnorm()) to ensure our assumptions for a linear model aren't violated. "
   ]
  },
  {
   "cell_type": "markdown",
   "id": "ed8032a7-ea33-44fc-b248-526b6834d80f",
   "metadata": {},
   "source": [
    "## c) Results"
   ]
  },
  {
   "cell_type": "markdown",
   "id": "f3dc4e25-f1a0-4c97-9db9-513f7d38b89a",
   "metadata": {},
   "source": [
    "### Standardize Data"
   ]
  },
  {
   "cell_type": "code",
   "execution_count": null,
   "id": "ec08e4d1-2dd6-4cb3-84f7-ebb830755204",
   "metadata": {},
   "outputs": [],
   "source": [
    "# Main developer: Marcus\n",
    "\n",
    "# Standardize the data\n",
    "data_standardized <- data_filt %>%\n",
    "  mutate(realSum = log(realSum)) %>%  # Log-transform realSum\n",
    "  mutate(across(\n",
    "    .cols = where(is.numeric) & !any_of(\"realSum\"),  # All numeric vars except realSum\n",
    "    .fns = ~ scale(.)\n",
    "  ))"
   ]
  },
  {
   "cell_type": "markdown",
   "id": "20bfd70d-1121-4806-809f-2535ef30267e",
   "metadata": {},
   "source": [
    "### Split data"
   ]
  },
  {
   "cell_type": "code",
   "execution_count": null,
   "id": "25309788-1e37-44ef-9874-1bbff63e01f5",
   "metadata": {},
   "outputs": [],
   "source": [
    "# Main developer: Alizah\n",
    "\n",
    "set.seed(1515)\n",
    "\n",
    "# Split data between Training and Testing data\n",
    "data_split <- initial_split(data_standardized, prop = 0.8, strata = realSum)\n",
    "training_data <- training(data_split)\n",
    "testing_data <- testing(data_split)"
   ]
  },
  {
   "cell_type": "markdown",
   "id": "c572075a-1204-4969-b394-8a900725b960",
   "metadata": {},
   "source": [
    "### Calculate Baseline Model"
   ]
  },
  {
   "cell_type": "code",
   "execution_count": null,
   "id": "23e1f260-f1ec-4894-8231-7d097c055e99",
   "metadata": {},
   "outputs": [],
   "source": [
    "# Main developer: Marcus\n",
    "# Contributor: Alizah (RMSE calculation)\n",
    "\n",
    "# Use the Intercept-Only Model as a Baseline for performance\n",
    "baseline_model <- lm(realSum ~ 1, data = training_data)\n",
    "\n",
    "# Get the predicted values of the Test data\n",
    "predictions <- predict(baseline_model, testing_data)\n",
    "\n",
    "# Calculating RMSE\n",
    "rmse_baseline <- rmse(testing_data$realSum, predictions)\n",
    "cat(\"RMSE Baseline (Scaled): \", rmse_baseline)\n",
    "\n",
    "actuals_original <- exp(testing_data$realSum)\n",
    "predictions_original <- exp(predictions)\n",
    "rmse_baseline_original <- rmse(actuals_original, predictions_original)\n",
    "cat(\"\\n\")\n",
    "cat(\"RMSE Baseline (Original): \", rmse_baseline_original)"
   ]
  },
  {
   "cell_type": "markdown",
   "id": "af543057-4596-4fc3-a80e-444032fc2bcf",
   "metadata": {},
   "source": [
    "### Using stepAIC() for Variable Selection"
   ]
  },
  {
   "cell_type": "code",
   "execution_count": null,
   "id": "99ff1946-451a-4d7e-be68-727a52c08dc7",
   "metadata": {},
   "outputs": [],
   "source": [
    "# Main Developer: Alizah\n",
    "\n",
    "# Run forward selection starting from baseline model (full_model is the upper boundary)\n",
    "full_model <- lm(realSum ~ ., data = training_data)\n",
    "\n",
    "step_model <- stepAIC(\n",
    "    baseline_model, \n",
    "    scope = list(lower = baseline_model, upper = full_model),\n",
    "    direction = \"forward\",\n",
    "    trace = FALSE) # minimizes output\n",
    "\n",
    "# THIS CELL TAKES ABOUT 2.5 MIN TO COMPLETE RUNNING\n",
    "# RESULTS SHOWN IN NEXT CELL"
   ]
  },
  {
   "cell_type": "code",
   "execution_count": null,
   "id": "262fb4ce-4617-4fd0-ad5d-b29f9a07ee3b",
   "metadata": {},
   "outputs": [],
   "source": [
    "# Viewing the selected predictors\n",
    "final_formula = formula(step_model)\n",
    "final_formula"
   ]
  },
  {
   "cell_type": "markdown",
   "id": "6c944127-8b16-4e75-95f0-d344b035aef1",
   "metadata": {},
   "source": [
    "### Create Prediction Model"
   ]
  },
  {
   "cell_type": "code",
   "execution_count": null,
   "id": "32e4235f-4033-4dad-af02-50131c1aa050",
   "metadata": {},
   "outputs": [],
   "source": [
    "# Main Developer: Alizah\n",
    "# Contributor: Zahra(Style Guide)\n",
    "\n",
    "# Create Final Prediction Model Using Selected Predictors\n",
    "final_model = lm(final_formula, data = training_data)\n",
    "summary(final_model)"
   ]
  },
  {
   "cell_type": "markdown",
   "id": "1056cd89-0b65-4364-b77e-52dbc32288e1",
   "metadata": {},
   "source": [
    "### Checking Model Assumptions"
   ]
  },
  {
   "cell_type": "code",
   "execution_count": null,
   "id": "272e13ca-9bae-49b7-a0e1-f7d9c5bc3605",
   "metadata": {},
   "outputs": [],
   "source": [
    "# Main developer: Alizah\n",
    "# Collaborator: Zahra (Histogram of Residuals)\n",
    "\n",
    "# Get Residuals\n",
    "residuals <- resid(final_model)\n",
    "fitted_vals <- fitted(final_model)\n",
    "\n",
    "# 1. Residuals vs Fitted plot (for linearity & homoscedasticity)\n",
    "plot(fitted_vals, residuals)\n",
    "abline(h = 0, col = \"red\")\n",
    "title(\"Residuals vs Fitted\")\n",
    "\n",
    "# 2. QQ plot (for normality)\n",
    "qqnorm(residuals)\n",
    "qqline(residuals, col = \"red\")\n",
    "\n",
    "# 3. Histogram of Residuals\n",
    "ggplot(data.frame(residuals), aes(x = residuals)) +\n",
    "  geom_histogram(binwidth = 0.25, fill = \"skyblue\", color = \"black\") +\n",
    "  labs(title = \"Histogram of Residuals\",\n",
    "       x = \"Residuals\",\n",
    "       y = \"Frequency\") +\n",
    "  theme_minimal()\n",
    "\n",
    "# 4. Check for Multicollinearity with Variance Inflation Factor (VIF)\n",
    "# insert here\n",
    "\n",
    "# 5. Check for Overdispersion Using quasipoisson\n",
    "# insert here"
   ]
  },
  {
   "cell_type": "markdown",
   "id": "2fdc145f-015e-4f12-9d0d-b50d3e17be4e",
   "metadata": {},
   "source": [
    "### Use Model to Predict"
   ]
  },
  {
   "cell_type": "code",
   "execution_count": null,
   "id": "b8a7e811-f653-4d91-aee2-3faab5ba8ae2",
   "metadata": {},
   "outputs": [],
   "source": [
    "# Main developer: Alizah\n",
    "# Collaborator: Zahra (Plot Actual vs Predicted)\n",
    "\n",
    "# Predicting listing prices (realSum) with our model \n",
    "predictions <- predict(final_model, testing_data)\n",
    "actuals <- testing_data$realSum\n",
    "\n",
    "# Calculating RMSE\n",
    "rmse_model <- rmse(testing_data$realSum, predictions)\n",
    "\n",
    "actuals_original <- exp(actuals)\n",
    "predictions_original <- exp(predictions)\n",
    "rmse_model_original <- rmse(actuals_original, predictions_original)\n",
    "\n",
    "# Plot Actual vs Predicted\n",
    "\n",
    "# Create plot data\n",
    "plot_data <- data.frame(actuals = testing_data$realSum,\n",
    "                        predictions = predict(final_model, testing_data))\n",
    "\n",
    "# Extract the baseline model intercept\n",
    "baseline_intercept <- coef(baseline_model)[1]\n",
    "\n",
    "# Build plot\n",
    "ggplot(plot_data, aes(x = actuals, y = predictions)) +\n",
    "  geom_point(aes(color = \"Predicted Values\")) +\n",
    "  \n",
    "  # Ideal y = x line\n",
    "  geom_abline(aes(color = \"Ideal Fit\"), slope = 1, intercept = 0, linetype = \"dashed\", linewidth = 1) +\n",
    "  \n",
    "  # Fitted trend line\n",
    "  geom_smooth(aes(color = \"Model Trend\"), method = \"lm\", se = FALSE, linewidth = 1) +\n",
    "  \n",
    "  # Horizontal line for baseline model intercept\n",
    "  geom_hline(aes(yintercept = baseline_intercept, color = \"Baseline Intercept\"),\n",
    "             linetype = \"dotdash\", linewidth = 1) +\n",
    "  \n",
    "  # Manual color and legend mapping\n",
    "  scale_color_manual(\n",
    "    name = \"Legend\",\n",
    "    values = c(\n",
    "      \"Predicted Values\" = \"steelblue\",\n",
    "      \"Ideal Fit\" = \"red\",\n",
    "      \"Model Trend\" = \"blue\",\n",
    "      \"Baseline Intercept\" = \"darkgreen\"\n",
    "    )\n",
    "  ) +\n",
    "  \n",
    "  labs(\n",
    "    title = \"Actual vs Predicted Prices with Model Trends\",\n",
    "    x = \"Actual Price\",\n",
    "    y = \"Predicted Price\"\n",
    "  ) +\n",
    "  theme_minimal() +\n",
    "  theme(legend.position = \"bottom\")\n"
   ]
  },
  {
   "cell_type": "code",
   "execution_count": null,
   "id": "13d102cf-6841-4a10-a500-8b78138302b2",
   "metadata": {},
   "outputs": [],
   "source": [
    "# Main Developer: Alizah\n",
    "# Collaborator: Zahra\n",
    "\n",
    "# Compile metrics into a table\n",
    "metrics <- data.frame(\n",
    "    metric = c(\"Baseline RMSE\", \"Model RMSE\"),\n",
    "    log_value = c(rmse_baseline, rmse_model),\n",
    "    value = c(rmse_baseline_original, rmse_model_original)\n",
    ")\n",
    "\n",
    "metrics"
   ]
  },
  {
   "cell_type": "markdown",
   "id": "df1167a3-b2e6-45fa-a8d2-477543c2bff5",
   "metadata": {},
   "source": [
    "# 3) Discussion"
   ]
  },
  {
   "cell_type": "markdown",
   "id": "25607d01-6df4-48fc-a0b3-2e4af98541ff",
   "metadata": {},
   "source": [
    "We asked the question: \n",
    "> “Which factors are most useful for predicting the price of an Airbnb listing?”.\n",
    "\n",
    "Through LASSO analysis, we found that the most statistically significance predictors are:\n",
    "`a`\n",
    "`b`\n",
    "`c`,\n",
    "Resulting in a model with an RMSE ~= `0.29`, which is better than the intercept-only model. \n",
    "\n",
    "[since it’s scaled, is it log? So I need to do e^(0.77^2)? Is it in Euros?]\n",
    "\n",
    "\n",
    "Discuss Simpson's paradox (how overall observed associations may differ by city/season/other variables not considered)\n",
    "\n",
    "### Possible improvements\n",
    "\n",
    "Our analysis has many assumptions, and if any turn out to be false our results may be invalid or require further correction. For instance, the relationship between the predictors and realSum may not be strictly linear.\n",
    "\n",
    "Since this is an external observational study, we cannot easily discover or isolate possible confounders from the data. \n",
    "There may also be hidden *interactions* or other important predictors that were overlooked or excluded from the dataset. For instance, the data used was collected over one summer, and thus does not consider the season. Other important variables could be the amenities, neighbourhood crime rate, and more. We note the risk of overfitting when including more predictors and interactive terms in a model.\n",
    "In particular, only looking at the data for Rome, Budapest and London could result in *Simpson’s paradox*, where the apparent associations for these three cities are not observed in other cities, or as a whole in Europe. These factors may result in higher or lower model performance. \n",
    "\n",
    "\n",
    "Future studies could examine the long-term trends in Airbnb price with Time Series analyses, consider more variables and interactions such as the season. It may also be a good idea to analyze on a per-city basis, as well as the trends for different groups of cities, or the trends for other continents and countries.\n"
   ]
  },
  {
   "cell_type": "markdown",
   "id": "811c3c0f-6022-470b-82f8-7bd8fa7ee74f",
   "metadata": {
    "jp-MarkdownHeadingCollapsed": true
   },
   "source": [
    "# 4) References\n",
    "\n",
    "- Toader, Victor, et al. \"Analysis of Price Determinants in the Case of Airbnb Listings.\" Economic Research-Ekonomska Istraživanja, vol. 35, no. 1, 2021, pp. 2493–2509. https://doi.org/10.1080/1331677x.2021.1962380.\n",
    "\n",
    "- Gyódi, Karol, and Łukasz Nawaro. \"Determinants of Airbnb Prices in European Cities: A Spatial Econometrics Approach.\" Tourism Management, vol. 86, 2021, https://doi.org/10.1016/j.tourman.2021.104319.\n",
    "\n",
    "- Gyódi, Karol, and Łukasz Nawaro. \"Airbnb Prices in European Cities.\" Kaggle, 10 Mar. 2024, www.kaggle.com/datasets/thedevastator/airbnb-prices-in-european-cities/data.\n",
    "\n"
   ]
  }
 ],
 "metadata": {
  "kernelspec": {
   "display_name": "R",
   "language": "R",
   "name": "ir"
  },
  "language_info": {
   "codemirror_mode": "r",
   "file_extension": ".r",
   "mimetype": "text/x-r-source",
   "name": "R",
   "pygments_lexer": "r",
   "version": "4.3.3"
  }
 },
 "nbformat": 4,
 "nbformat_minor": 5
}
